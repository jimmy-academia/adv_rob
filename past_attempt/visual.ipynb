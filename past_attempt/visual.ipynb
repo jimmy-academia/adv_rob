{
 "cells": [
  {
   "cell_type": "code",
   "execution_count": 27,
   "metadata": {},
   "outputs": [],
   "source": [
    "import datetime\n",
    "from pathlib import Path\n",
    "\n",
    "import copy\n",
    "from utils import *\n",
    "from networks import get_model\n",
    "from datasets import get_dataloader, reverse_normalize_transform, cifar10_class_names\n",
    "from attacks.default import auto_attack, pgd_attack\n",
    "from tqdm import tqdm \n",
    "\n",
    "from types import SimpleNamespace\n",
    "\n",
    "from IPython.display import clear_output\n",
    "from torchvision import transforms\n",
    "import matplotlib.pyplot as plt\n",
    "\n",
    "def show_images(*images, dataset='cifar10'):\n",
    "    # If only one image is passed, handle it individually\n",
    "    revtrans = reverse_normalize_transform(dataset)\n",
    "    \n",
    "    if len(images) == 1:\n",
    "        image = revtrans(images[0])\n",
    "        plt.imshow(transforms.ToPILImage()(image.cpu().detach().squeeze()))\n",
    "    else:\n",
    "        fig, axes = plt.subplots(1, len(images), figsize=(15, 5))\n",
    "        if len(images) == 1:\n",
    "            axes = [axes]\n",
    "        for i, image in enumerate(images):\n",
    "            image = revtrans(image)\n",
    "            axes[i].imshow(transforms.ToPILImage()(image.cpu().detach().squeeze()))\n",
    "            axes[i].axis('off')  # Hide the axis for a cleaner display\n",
    "        \n",
    "    plt.show()\n",
    "\n",
    "def set_arguments():\n",
    "    args = SimpleNamespace()\n",
    "    \n",
    "    # base\n",
    "    args.seed = 0\n",
    "    args.device = 0\n",
    "    \n",
    "    # main decisions\n",
    "    args.model = 'resnetcifarapt'  # Default value\n",
    "    args.dataset = 'cifar10'  # Default value\n",
    "    args.train_env = 'AST'  # Default value\n",
    "    \n",
    "    # test time settings\n",
    "    args.test_time = 'none'  # Default value\n",
    "    args.test_domain = 'corrupt'  # Default value\n",
    "    args.corrupt_level = 5  # Default value\n",
    "    args.corrupt_type = 'gaussian_noise'  # Default value\n",
    "    args.test_time_iter = 1  # Default value\n",
    "    \n",
    "    # detail train/attack decisions\n",
    "    args.batch_size = 128  # Default value\n",
    "    args.eps = None  # Default value\n",
    "    args.attack_iters = 50  # Default value\n",
    "    args.eval_interval = 1  # Default value\n",
    "    \n",
    "    # detail model decisions (iptnet)\n",
    "    args.patch_size = 1  # Default value\n",
    "    args.vocab_size = 128  # Default value\n",
    "    \n",
    "    # train record path or notes \n",
    "    args.ckpt = 'ckpt'  # Default value\n",
    "    args.record_path = None  # Default value\n",
    "    \n",
    "    # post-parsing adjustments\n",
    "    args.device = f\"cuda:{args.device}\" if args.device >= 0 and torch.cuda.is_available() else \"cpu\"\n",
    "    args.ckpt = Path(args.ckpt)\n",
    "    args.ckpt.mkdir(exist_ok=True)\n",
    "    \n",
    "    if args.record_path is None:\n",
    "        mmdd = datetime.datetime.now().strftime(\"%m%d\")\n",
    "        record_path = f'{args.train_env}-{args.model}-{args.dataset}-{mmdd}'\n",
    "        count = len(list(args.ckpt.glob(f\"{record_path}*\")))\n",
    "        suffix = f'_{count+1}' if count >= 1 else ''\n",
    "        args.record_path = args.ckpt / (record_path + suffix)\n",
    "    else:\n",
    "        args.record_path = args.ckpt / args.record_path\n",
    "\n",
    "    # Adjust epsilon if not provided\n",
    "    if args.eps is None:\n",
    "        args.eps = 0.3 if args.dataset == 'mnist' else 8/255\n",
    "\n",
    "    # Set other attributes based on model/dataset\n",
    "    args.channels = 3\n",
    "    args.image_size = 32 if args.dataset != 'imagenet' else 256\n",
    "    args.num_classes = 10 if args.dataset not in ['imagenet', 'cifar100'] else (100 if args.dataset == 'cifar100' else 1000)\n",
    "\n",
    "    return args\n"
   ]
  },
  {
   "cell_type": "code",
   "execution_count": 29,
   "metadata": {},
   "outputs": [
    {
     "name": "stdout",
     "output_type": "stream",
     "text": [
      "\n",
      "=== running experiment: AST resnetcifarapt cifar10 ===\n",
      ">>> model param count: 374586 ≈ 1MB\n",
      ">>>> ipt config: vocab_size = 128, patch_size=1\n",
      "Files already downloaded and verified\n",
      "Files already downloaded and verified\n",
      ">>>> Dataset: Clean cifar10, no test time augmentation\n",
      "label is  Cat\n"
     ]
    },
    {
     "data": {
      "image/png": "[encoded data removed]",
      "text/plain": [
       "<Figure size 640x480 with 1 Axes>"
      ]
     },
     "metadata": {},
     "output_type": "display_data"
    },
    {
     "name": "stderr",
     "output_type": "stream",
     "text": [
      "ast:pretrain: 100%|█████████████████████████| 391/391 [00:27<00:00, 14.00it/s, loss=0.122]\n",
      "adv/sim training: 100%|███████████████████████████████| 391/391 [01:39<00:00,  3.92it/s]\n"
     ]
    }
   ],
   "source": [
    "args = set_arguments()\n",
    "print()\n",
    "print(f'=== running experiment: {args.train_env} {args.model} {args.dataset} ===')\n",
    "\n",
    "# Initialize components based on config\n",
    "model = get_model(args)\n",
    "num_parameters = sum(p.numel() for p in model.parameters() if p.requires_grad)\n",
    "Num, whatB = params_to_memory(num_parameters)\n",
    "param_msg = f'model param count: {num_parameters} ≈ {Num}{whatB}'\n",
    "print(f'>>> {param_msg}')\n",
    "# additional information for iptnet\n",
    "if 'ipt' in args.model or 'apt' in args.model:\n",
    "    print(f'>>>> ipt config: vocab_size = {args.vocab_size}, patch_size={args.patch_size}')\n",
    "\n",
    "train_loader, test_loader = get_dataloader(args, test_len=1)\n",
    "\n",
    "orig_image, label = next(iter(test_loader))\n",
    "# print('label is ', cifar10_class_names[label.item()])\n",
    "# show_images(orig_image)\n",
    "\n",
    "\n",
    "model.train()\n",
    "model.to(args.device)\n",
    "optimizer = torch.optim.Adam(model.iptnet.parameters(), lr=1e-3)\n",
    "opt_class = torch.optim.Adam(model.classifier.parameters(), lr=1e-3)\n",
    "        \n",
    "for epoch in range(1, 2):\n",
    "\n",
    "    # reconstruction pretrain\n",
    "    pbar = tqdm(train_loader, ncols=90, desc='ast:pretrain')\n",
    "    for images, labels in pbar:\n",
    "        images, labels = images.to(args.device), labels.to(args.device)\n",
    "        adv_images = pgd_attack(args, images, model.iptnet, images, True, attack_iters=7)\n",
    "        output = model.iptnet(adv_images)\n",
    "        mseloss = torch.nn.MSELoss()(output, images)\n",
    "        optimizer.zero_grad()\n",
    "        mseloss.backward()\n",
    "        optimizer.step()\n",
    "        pbar.set_postfix(loss=mseloss.item())\n",
    "\n",
    "    # adversarial similarity training\n",
    "    pbar = tqdm(train_loader, ncols=88, desc='adv/sim training')\n",
    "\n",
    "    for images, labels in pbar:\n",
    "        images, labels = images.to(args.device), labels.to(args.device)\n",
    "        adv_images = pgd_attack(args, images, model, labels, False, attack_iters=7)\n",
    "        output = model.iptnet(adv_images)\n",
    "\n",
    "        mseloss = torch.nn.MSELoss()(output, images)\n",
    "        optimizer.zero_grad()\n",
    "        mseloss.backward()\n",
    "        optimizer.step()\n",
    "\n",
    "        cl_output = model.classifier(output.detach())\n",
    "        loss = torch.nn.CrossEntropyLoss()(cl_output, labels)\n",
    "        opt_class.zero_grad()\n",
    "        loss.backward()\n",
    "        opt_class.step()"
   ]
  },
  {
   "cell_type": "code",
   "execution_count": 30,
   "metadata": {},
   "outputs": [
    {
     "data": {
      "image/png": "[encoded data removed]",
      "text/plain": [
       "<Figure size 1500x500 with 2 Axes>"
      ]
     },
     "metadata": {},
     "output_type": "display_data"
    },
    {
     "name": "stdout",
     "output_type": "stream",
     "text": [
      "tensor(2.7831, device='cuda:0') tensor(-2.0943, device='cuda:0')\n"
     ]
    }
   ],
   "source": [
    "model.eval()\n",
    "test_correct =  adv_correct = total = 0\n",
    "for images, labels in test_loader:\n",
    "    images = images.to(args.device); labels = labels.to(args.device)\n",
    "    pred = model(images)\n",
    "    oimage = copy.deepcopy(images)\n",
    "    # test_correct += float((pred.argmax(dim=1) == labels).sum())\n",
    "    # adv_images = pgd_attack(args, images, model, labels)\n",
    "    # adv_images = auto_attack(args, images, model, labels)\n",
    "    # x = copy.deepcopy(adv_images)\n",
    "    adv_pred, recon = model(images, True)\n",
    "    # adv_pred, recon = model(x, True)\n",
    "    adv_correct += float((adv_pred.argmax(dim=1) == labels).sum())\n",
    "    total += len(labels)\n",
    "diff = adv_images - oimage\n",
    "show_images(oimage, recon)\n",
    "# show_images(oimage, adv_images, diff, recon)\n",
    "print(diff.max(), diff.min())"
   ]
  },
  {
   "cell_type": "code",
   "execution_count": null,
   "metadata": {},
   "outputs": [],
   "source": []
  }
 ],
 "metadata": {
  "kernelspec": {
   "display_name": "cypress",
   "language": "python",
   "name": "python3"
  },
  "language_info": {
   "codemirror_mode": {
    "name": "ipython",
    "version": 3
   },
   "file_extension": ".py",
   "mimetype": "text/x-python",
   "name": "python",
   "nbconvert_exporter": "python",
   "pygments_lexer": "ipython3",
   "version": "3.12.1"
  }
 },
 "nbformat": 4,
 "nbformat_minor": 2
}
