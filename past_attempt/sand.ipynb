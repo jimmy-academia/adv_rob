{
 "cells": [
  {
   "cell_type": "code",
   "execution_count": 32,
   "metadata": {},
   "outputs": [],
   "source": [
    "from config import default_arguments\n",
    "from utils import set_seeds\n",
    "from ipt.data import get_dataset, get_dataloader\n",
    "from ipt.networks import APTNet"
   ]
  },
  {
   "cell_type": "code",
   "execution_count": 33,
   "metadata": {},
   "outputs": [],
   "source": [
    "from IPython.display import clear_output\n",
    "from torchvision import transforms\n",
    "import matplotlib.pyplot as plt\n",
    "\n",
    "def show_image(image): \n",
    "    plt.imshow(transforms.ToPILImage()(image.cpu().detach().squeeze()))\n",
    "    plt.show()"
   ]
  },
  {
   "cell_type": "code",
   "execution_count": 34,
   "metadata": {},
   "outputs": [],
   "source": [
    "import torch\n",
    "import torch.nn as nn\n",
    "from tqdm import tqdm\n",
    "\n",
    "class Classifier(nn.Module):\n",
    "    def __init__(self, args):\n",
    "        super(Classifier, self).__init__()\n",
    "        self.args = args\n",
    "        self.conv1 = nn.Conv2d(args.channels, 8, kernel_size=3, stride=2, padding=1)\n",
    "        self.conv2 = nn.Conv2d(8, 16, kernel_size=3, stride=2, padding=1)\n",
    "        self.pool = nn.MaxPool2d(kernel_size=2, stride=2)\n",
    "        self.relu = nn.ReLU()\n",
    "        self.flatten = nn.Flatten()\n",
    "        self.linear = nn.Linear(64, 10)\n",
    "    \n",
    "    def forward(self, x):\n",
    "        x = self.conv1(x)\n",
    "        x = self.relu(x)\n",
    "        x = self.pool(x)\n",
    "        x = self.conv2(x)\n",
    "        x = self.relu(x)\n",
    "        x = self.pool(x)\n",
    "        x = self.flatten(x)\n",
    "        x = self.linear(x)\n",
    "        return x\n",
    "    \n",
    "class Dummy(nn.Module):\n",
    "    def __init__(self, iptnet, classifier):\n",
    "        super(Dummy, self).__init__()\n",
    "        self.iptnet = iptnet\n",
    "        self.classifier = classifier\n",
    "    \n",
    "    def forward(self, x):\n",
    "        x = self.iptnet(x)\n",
    "        x = self.classifier(x)\n",
    "        return x\n",
    "\n",
    "def test_attack(args, model, test_loader, adv_perturb, fast=True):\n",
    "    total = correct = adv_correct = 0\n",
    "    model.eval()\n",
    "    pbar = tqdm(test_loader, ncols=90, desc='test_attack', unit='batch', leave=False)\n",
    "    for images, labels in pbar:\n",
    "        images = images.to(args.device)\n",
    "        labels = labels.to(args.device)\n",
    "        pred = model(images)\n",
    "        correct += float((pred.argmax(dim=1) == labels).sum())\n",
    "\n",
    "        adv_images = adv_perturb(args, images, model, labels)\n",
    "        adv_pred = model(adv_images)\n",
    "        adv_correct += float((adv_pred.argmax(dim=1) == labels).sum())\n",
    "        total += len(labels)\n",
    "\n",
    "        if fast:\n",
    "            break\n",
    "    return correct, adv_correct, total\n"
   ]
  },
  {
   "cell_type": "code",
   "execution_count": 35,
   "metadata": {},
   "outputs": [],
   "source": [
    "import time\n",
    "from ipt.attacks import pgd_attack, square_attack\n",
    "\n",
    "def rec_iptadvsim_training(args, train_loader, test_loader, adv_train_type, num_iter, model):\n",
    "\n",
    "    classifier = Classifier(args).to(args.device)\n",
    "    optimizer = torch.optim.Adam(model.parameters(), lr=1e-3)\n",
    "    opt_class = torch.optim.Adam(classifier.parameters(), lr=1e-3)\n",
    "    \n",
    "    elapsed_time = 0\n",
    "    for iter_ in range(num_iter):\n",
    "        start = time.time()    \n",
    "\n",
    "        pbar = tqdm(train_loader, ncols=90, desc='IPT sim pretraining')\n",
    "        for images, labels in pbar:\n",
    "            images = images.to(args.device)\n",
    "            labels = labels.to(args.device)\n",
    "            adv_images = pgd_attack(args, images, model, images, True)\n",
    "            output = model(adv_images)\n",
    "            mseloss = nn.MSELoss()(output, images)\n",
    "            optimizer.zero_grad()\n",
    "            mseloss.backward()\n",
    "            optimizer.step()\n",
    "            pbar.set_postfix(loss=mseloss.item())\n",
    "\n",
    "        pbar = tqdm(train_loader, ncols=88, desc='adv/sim training')\n",
    "        dummy = Dummy(model, classifier)\n",
    "        for images, labels in pbar:\n",
    "            images, labels = images.to(args.device), labels.to(args.device)\n",
    "\n",
    "            if adv_train_type == 'pgd':\n",
    "                adv_images = pgd_attack(args, images, dummy, labels, False)\n",
    "            elif adv_train_type == 'square':\n",
    "                adv_images = square_attack(args, images, dummy, labels)\n",
    "            output = model(adv_images)\n",
    "\n",
    "            mseloss = nn.MSELoss()(output, images)\n",
    "            optimizer.zero_grad()\n",
    "            mseloss.backward(retain_graph=True)\n",
    "            optimizer.step()\n",
    "\n",
    "            cl_output = classifier(output.detach())\n",
    "            cl_loss = nn.CrossEntropyLoss()(cl_output, labels)\n",
    "            opt_class.zero_grad()\n",
    "            cl_loss.backward()\n",
    "            opt_class.step()\n",
    "\n",
    "            adv_acc = (cl_output.argmax(dim=1) == labels).sum() / len(labels)\n",
    "            pbar.set_postfix({'adv_acc': float(adv_acc)})\n",
    "\n",
    "        elapsed_time += time.time() - start\n",
    "        # Record['iter'].append(iter_)\n",
    "        # Record['elapsed_time'].append(elapsed_time)\n",
    "\n",
    "        correct, adv_correct, total = test_attack(args, dummy, test_loader, pgd_attack)\n",
    "        message = f'[AST pgd] test acc: {correct/total:.4f}, adv acc: {adv_correct/total:.4f}...'\n",
    "        print(message)\n",
    "        # Record['pgd_test_acc'].append(correct/total)\n",
    "        # Record['pgd_adv_acc'].append(adv_correct/total)\n",
    "\n",
    "        correct, adv_correct, total = test_attack(args, dummy, test_loader, square_attack)\n",
    "        message = f'[AST square] test acc: {correct/total:.4f}, adv acc: {adv_correct/total:.4f}...'\n",
    "        print(message)\n",
    "        # Record['square_test_acc'].append(correct/total)\n",
    "        # Record['square_adv_acc'].append(adv_correct/total)\n",
    "    return dummy"
   ]
  },
  {
   "cell_type": "code",
   "execution_count": 36,
   "metadata": {},
   "outputs": [
    {
     "name": "stdout",
     "output_type": "stream",
     "text": [
      "========= mnist =========\n"
     ]
    },
    {
     "name": "stderr",
     "output_type": "stream",
     "text": [
      "IPT sim pretraining:   0%|                                        | 0/469 [00:00<?, ?it/s]"
     ]
    },
    {
     "name": "stderr",
     "output_type": "stream",
     "text": [
      "IPT sim pretraining: 100%|██████████████████| 469/469 [00:59<00:00,  7.91it/s, loss=0.015]\n",
      "adv/sim training: 100%|████████████████| 469/469 [01:21<00:00,  5.77it/s, adv_acc=0.375]\n",
      "                                                                                          \r"
     ]
    },
    {
     "name": "stdout",
     "output_type": "stream",
     "text": [
      "[AST pgd] test acc: 0.6875, adv acc: 0.4141...\n"
     ]
    },
    {
     "name": "stderr",
     "output_type": "stream",
     "text": [
      "                                                                                          \r"
     ]
    },
    {
     "name": "stdout",
     "output_type": "stream",
     "text": [
      "[AST square] test acc: 0.6875, adv acc: 0.2812...\n"
     ]
    },
    {
     "name": "stderr",
     "output_type": "stream",
     "text": [
      "IPT sim pretraining: 100%|██████████████████| 469/469 [01:00<00:00,  7.81it/s, loss=0.012]\n",
      "adv/sim training: 100%|████████████████| 469/469 [01:18<00:00,  5.94it/s, adv_acc=0.604]\n",
      "                                                                                          \r"
     ]
    },
    {
     "name": "stdout",
     "output_type": "stream",
     "text": [
      "[AST pgd] test acc: 0.8828, adv acc: 0.5703...\n"
     ]
    },
    {
     "name": "stderr",
     "output_type": "stream",
     "text": [
      "                                                                                          \r"
     ]
    },
    {
     "name": "stdout",
     "output_type": "stream",
     "text": [
      "[AST square] test acc: 0.8828, adv acc: 0.3594...\n"
     ]
    },
    {
     "name": "stderr",
     "output_type": "stream",
     "text": [
      "IPT sim pretraining: 100%|█████████████████| 469/469 [01:00<00:00,  7.81it/s, loss=0.0103]\n",
      "adv/sim training: 100%|████████████████| 469/469 [01:19<00:00,  5.87it/s, adv_acc=0.604]\n",
      "                                                                                          \r"
     ]
    },
    {
     "name": "stdout",
     "output_type": "stream",
     "text": [
      "[AST pgd] test acc: 0.9219, adv acc: 0.6172...\n"
     ]
    },
    {
     "name": "stderr",
     "output_type": "stream",
     "text": [
      "                                                                                          \r"
     ]
    },
    {
     "name": "stdout",
     "output_type": "stream",
     "text": [
      "[AST square] test acc: 0.9219, adv acc: 0.4453...\n"
     ]
    },
    {
     "name": "stderr",
     "output_type": "stream",
     "text": [
      "IPT sim pretraining: 100%|████████████████| 469/469 [01:00<00:00,  7.79it/s, loss=0.00971]\n",
      "adv/sim training: 100%|████████████████| 469/469 [01:21<00:00,  5.77it/s, adv_acc=0.552]\n",
      "                                                                                          \r"
     ]
    },
    {
     "name": "stdout",
     "output_type": "stream",
     "text": [
      "[AST pgd] test acc: 0.9219, adv acc: 0.6641...\n"
     ]
    },
    {
     "name": "stderr",
     "output_type": "stream",
     "text": [
      "                                                                                          \r"
     ]
    },
    {
     "name": "stdout",
     "output_type": "stream",
     "text": [
      "[AST square] test acc: 0.9219, adv acc: 0.4922...\n"
     ]
    },
    {
     "name": "stderr",
     "output_type": "stream",
     "text": [
      "IPT sim pretraining: 100%|████████████████| 469/469 [01:00<00:00,  7.78it/s, loss=0.00861]\n",
      "adv/sim training: 100%|████████████████| 469/469 [01:20<00:00,  5.84it/s, adv_acc=0.615]\n",
      "                                                                                          \r"
     ]
    },
    {
     "name": "stdout",
     "output_type": "stream",
     "text": [
      "[AST pgd] test acc: 0.9453, adv acc: 0.7109...\n"
     ]
    },
    {
     "name": "stderr",
     "output_type": "stream",
     "text": [
      "                                                                                          \r"
     ]
    },
    {
     "name": "stdout",
     "output_type": "stream",
     "text": [
      "[AST square] test acc: 0.9453, adv acc: 0.4297...\n"
     ]
    },
    {
     "name": "stderr",
     "output_type": "stream",
     "text": [
      "IPT sim pretraining: 100%|█████████████████| 469/469 [01:00<00:00,  7.80it/s, loss=0.0082]\n",
      "adv/sim training: 100%|█████████████████| 469/469 [01:22<00:00,  5.66it/s, adv_acc=0.74]\n",
      "                                                                                          \r"
     ]
    },
    {
     "name": "stdout",
     "output_type": "stream",
     "text": [
      "[AST pgd] test acc: 0.9375, adv acc: 0.6875...\n"
     ]
    },
    {
     "name": "stderr",
     "output_type": "stream",
     "text": [
      "                                                                                          \r"
     ]
    },
    {
     "name": "stdout",
     "output_type": "stream",
     "text": [
      "[AST square] test acc: 0.9375, adv acc: 0.4766...\n"
     ]
    },
    {
     "name": "stderr",
     "output_type": "stream",
     "text": [
      "IPT sim pretraining: 100%|████████████████| 469/469 [01:00<00:00,  7.81it/s, loss=0.00774]\n",
      "adv/sim training: 100%|████████████████| 469/469 [01:22<00:00,  5.69it/s, adv_acc=0.656]\n",
      "                                                                                          \r"
     ]
    },
    {
     "name": "stdout",
     "output_type": "stream",
     "text": [
      "[AST pgd] test acc: 0.9453, adv acc: 0.6953...\n"
     ]
    },
    {
     "name": "stderr",
     "output_type": "stream",
     "text": [
      "                                                                                          \r"
     ]
    },
    {
     "name": "stdout",
     "output_type": "stream",
     "text": [
      "[AST square] test acc: 0.9453, adv acc: 0.4297...\n"
     ]
    },
    {
     "name": "stderr",
     "output_type": "stream",
     "text": [
      "IPT sim pretraining: 100%|████████████████| 469/469 [01:00<00:00,  7.79it/s, loss=0.00762]\n",
      "adv/sim training: 100%|████████████████| 469/469 [01:23<00:00,  5.65it/s, adv_acc=0.781]\n",
      "                                                                                          \r"
     ]
    },
    {
     "name": "stdout",
     "output_type": "stream",
     "text": [
      "[AST pgd] test acc: 0.9297, adv acc: 0.7344...\n"
     ]
    },
    {
     "name": "stderr",
     "output_type": "stream",
     "text": [
      "                                                                                          \r"
     ]
    },
    {
     "name": "stdout",
     "output_type": "stream",
     "text": [
      "[AST square] test acc: 0.9297, adv acc: 0.4766...\n"
     ]
    },
    {
     "name": "stderr",
     "output_type": "stream",
     "text": [
      "IPT sim pretraining: 100%|████████████████| 469/469 [01:00<00:00,  7.80it/s, loss=0.00735]\n",
      "adv/sim training: 100%|████████████████| 469/469 [01:23<00:00,  5.63it/s, adv_acc=0.781]\n",
      "                                                                                          \r"
     ]
    },
    {
     "name": "stdout",
     "output_type": "stream",
     "text": [
      "[AST pgd] test acc: 0.9375, adv acc: 0.7500...\n"
     ]
    },
    {
     "name": "stderr",
     "output_type": "stream",
     "text": [
      "                                                                                          \r"
     ]
    },
    {
     "name": "stdout",
     "output_type": "stream",
     "text": [
      "[AST square] test acc: 0.9375, adv acc: 0.4531...\n"
     ]
    },
    {
     "name": "stderr",
     "output_type": "stream",
     "text": [
      "IPT sim pretraining: 100%|████████████████| 469/469 [01:00<00:00,  7.81it/s, loss=0.00753]\n",
      "adv/sim training: 100%|████████████████| 469/469 [01:21<00:00,  5.72it/s, adv_acc=0.865]\n",
      "                                                                                          \r"
     ]
    },
    {
     "name": "stdout",
     "output_type": "stream",
     "text": [
      "[AST pgd] test acc: 0.9453, adv acc: 0.7734...\n"
     ]
    },
    {
     "name": "stderr",
     "output_type": "stream",
     "text": [
      "                                                                                          \r"
     ]
    },
    {
     "name": "stdout",
     "output_type": "stream",
     "text": [
      "[AST square] test acc: 0.9453, adv acc: 0.4375...\n"
     ]
    },
    {
     "data": {
      "image/png": "[encoded data removed]",
      "text/plain": [
       "<Figure size 640x480 with 1 Axes>"
      ]
     },
     "metadata": {},
     "output_type": "display_data"
    },
    {
     "data": {
      "image/png": "[encoded data removed]",
      "text/plain": [
       "<Figure size 640x480 with 1 Axes>"
      ]
     },
     "metadata": {},
     "output_type": "display_data"
    },
    {
     "data": {
      "image/png": "[encoded data removed]",
      "text/plain": [
       "<Figure size 640x480 with 1 Axes>"
      ]
     },
     "metadata": {},
     "output_type": "display_data"
    },
    {
     "data": {
      "image/png": "[encoded data removed]",
      "text/plain": [
       "<Figure size 640x480 with 1 Axes>"
      ]
     },
     "metadata": {},
     "output_type": "display_data"
    },
    {
     "name": "stdout",
     "output_type": "stream",
     "text": [
      "========= cifar10 =========\n",
      "Files already downloaded and verified\n",
      "Files already downloaded and verified\n"
     ]
    },
    {
     "name": "stderr",
     "output_type": "stream",
     "text": [
      "IPT sim pretraining: 100%|████████████████| 391/391 [00:54<00:00,  7.18it/s, loss=0.00724]\n",
      "adv/sim training: 100%|████████████████| 391/391 [01:12<00:00,  5.41it/s, adv_acc=0.263]\n",
      "                                                                                          \r"
     ]
    },
    {
     "name": "stdout",
     "output_type": "stream",
     "text": [
      "[AST pgd] test acc: 0.3281, adv acc: 0.2656...\n"
     ]
    },
    {
     "name": "stderr",
     "output_type": "stream",
     "text": [
      "                                                                                          \r"
     ]
    },
    {
     "name": "stdout",
     "output_type": "stream",
     "text": [
      "[AST square] test acc: 0.3281, adv acc: 0.1875...\n"
     ]
    },
    {
     "name": "stderr",
     "output_type": "stream",
     "text": [
      "IPT sim pretraining: 100%|████████████████| 391/391 [00:54<00:00,  7.17it/s, loss=0.00381]\n",
      "adv/sim training: 100%|██████████████████| 391/391 [01:12<00:00,  5.43it/s, adv_acc=0.2]\n",
      "                                                                                          \r"
     ]
    },
    {
     "name": "stdout",
     "output_type": "stream",
     "text": [
      "[AST pgd] test acc: 0.3750, adv acc: 0.2969...\n"
     ]
    },
    {
     "name": "stderr",
     "output_type": "stream",
     "text": [
      "                                                                                          \r"
     ]
    },
    {
     "name": "stdout",
     "output_type": "stream",
     "text": [
      "[AST square] test acc: 0.3750, adv acc: 0.2578...\n"
     ]
    },
    {
     "name": "stderr",
     "output_type": "stream",
     "text": [
      "IPT sim pretraining: 100%|████████████████| 391/391 [00:54<00:00,  7.18it/s, loss=0.00284]\n",
      "adv/sim training: 100%|████████████████| 391/391 [01:11<00:00,  5.43it/s, adv_acc=0.163]\n",
      "                                                                                          \r"
     ]
    },
    {
     "name": "stdout",
     "output_type": "stream",
     "text": [
      "[AST pgd] test acc: 0.3906, adv acc: 0.2812...\n"
     ]
    },
    {
     "name": "stderr",
     "output_type": "stream",
     "text": [
      "                                                                                          \r"
     ]
    },
    {
     "name": "stdout",
     "output_type": "stream",
     "text": [
      "[AST square] test acc: 0.3906, adv acc: 0.2344...\n"
     ]
    },
    {
     "name": "stderr",
     "output_type": "stream",
     "text": [
      "IPT sim pretraining: 100%|████████████████| 391/391 [00:54<00:00,  7.17it/s, loss=0.00236]\n",
      "adv/sim training: 100%|████████████████| 391/391 [01:11<00:00,  5.45it/s, adv_acc=0.188]\n",
      "                                                                                          \r"
     ]
    },
    {
     "name": "stdout",
     "output_type": "stream",
     "text": [
      "[AST pgd] test acc: 0.3750, adv acc: 0.2500...\n"
     ]
    },
    {
     "name": "stderr",
     "output_type": "stream",
     "text": [
      "                                                                                          \r"
     ]
    },
    {
     "name": "stdout",
     "output_type": "stream",
     "text": [
      "[AST square] test acc: 0.3750, adv acc: 0.2109...\n"
     ]
    },
    {
     "name": "stderr",
     "output_type": "stream",
     "text": [
      "IPT sim pretraining: 100%|████████████████| 391/391 [00:54<00:00,  7.19it/s, loss=0.00175]\n",
      "adv/sim training: 100%|████████████████| 391/391 [01:11<00:00,  5.46it/s, adv_acc=0.237]\n",
      "                                                                                          \r"
     ]
    },
    {
     "name": "stdout",
     "output_type": "stream",
     "text": [
      "[AST pgd] test acc: 0.3750, adv acc: 0.2422...\n"
     ]
    },
    {
     "name": "stderr",
     "output_type": "stream",
     "text": [
      "                                                                                          \r"
     ]
    },
    {
     "name": "stdout",
     "output_type": "stream",
     "text": [
      "[AST square] test acc: 0.3750, adv acc: 0.2109...\n"
     ]
    },
    {
     "name": "stderr",
     "output_type": "stream",
     "text": [
      "IPT sim pretraining: 100%|████████████████| 391/391 [00:54<00:00,  7.18it/s, loss=0.00179]\n",
      "adv/sim training: 100%|████████████████| 391/391 [01:12<00:00,  5.36it/s, adv_acc=0.163]\n",
      "                                                                                          \r"
     ]
    },
    {
     "name": "stdout",
     "output_type": "stream",
     "text": [
      "[AST pgd] test acc: 0.3984, adv acc: 0.2578...\n"
     ]
    },
    {
     "name": "stderr",
     "output_type": "stream",
     "text": [
      "                                                                                          \r"
     ]
    },
    {
     "name": "stdout",
     "output_type": "stream",
     "text": [
      "[AST square] test acc: 0.3984, adv acc: 0.2109...\n"
     ]
    },
    {
     "name": "stderr",
     "output_type": "stream",
     "text": [
      "IPT sim pretraining: 100%|████████████████| 391/391 [00:54<00:00,  7.16it/s, loss=0.00182]\n",
      "adv/sim training: 100%|██████████████████| 391/391 [01:12<00:00,  5.38it/s, adv_acc=0.2]\n",
      "                                                                                          \r"
     ]
    },
    {
     "name": "stdout",
     "output_type": "stream",
     "text": [
      "[AST pgd] test acc: 0.3438, adv acc: 0.2734...\n"
     ]
    },
    {
     "name": "stderr",
     "output_type": "stream",
     "text": [
      "                                                                                          \r"
     ]
    },
    {
     "name": "stdout",
     "output_type": "stream",
     "text": [
      "[AST square] test acc: 0.3438, adv acc: 0.2188...\n"
     ]
    },
    {
     "name": "stderr",
     "output_type": "stream",
     "text": [
      "IPT sim pretraining: 100%|████████████████| 391/391 [00:54<00:00,  7.16it/s, loss=0.00153]\n",
      "adv/sim training: 100%|████████████████| 391/391 [01:12<00:00,  5.38it/s, adv_acc=0.275]\n",
      "                                                                                          \r"
     ]
    },
    {
     "name": "stdout",
     "output_type": "stream",
     "text": [
      "[AST pgd] test acc: 0.3359, adv acc: 0.2422...\n"
     ]
    },
    {
     "name": "stderr",
     "output_type": "stream",
     "text": [
      "                                                                                          \r"
     ]
    },
    {
     "name": "stdout",
     "output_type": "stream",
     "text": [
      "[AST square] test acc: 0.3359, adv acc: 0.2031...\n"
     ]
    },
    {
     "name": "stderr",
     "output_type": "stream",
     "text": [
      "IPT sim pretraining: 100%|████████████████| 391/391 [00:54<00:00,  7.16it/s, loss=0.00144]\n",
      "adv/sim training: 100%|████████████████| 391/391 [01:12<00:00,  5.36it/s, adv_acc=0.363]\n",
      "                                                                                          \r"
     ]
    },
    {
     "name": "stdout",
     "output_type": "stream",
     "text": [
      "[AST pgd] test acc: 0.3672, adv acc: 0.2891...\n"
     ]
    },
    {
     "name": "stderr",
     "output_type": "stream",
     "text": [
      "                                                                                          \r"
     ]
    },
    {
     "name": "stdout",
     "output_type": "stream",
     "text": [
      "[AST square] test acc: 0.3672, adv acc: 0.1953...\n"
     ]
    },
    {
     "name": "stderr",
     "output_type": "stream",
     "text": [
      "IPT sim pretraining: 100%|████████████████| 391/391 [00:54<00:00,  7.18it/s, loss=0.00137]\n",
      "adv/sim training: 100%|████████████████| 391/391 [01:12<00:00,  5.40it/s, adv_acc=0.237]\n",
      "                                                                                          \r"
     ]
    },
    {
     "name": "stdout",
     "output_type": "stream",
     "text": [
      "[AST pgd] test acc: 0.3750, adv acc: 0.2734...\n"
     ]
    },
    {
     "name": "stderr",
     "output_type": "stream",
     "text": [
      "                                                                                          \r"
     ]
    },
    {
     "name": "stdout",
     "output_type": "stream",
     "text": [
      "[AST square] test acc: 0.3750, adv acc: 0.2578...\n"
     ]
    },
    {
     "data": {
      "image/png": "[encoded data removed]",
      "text/plain": [
       "<Figure size 640x480 with 1 Axes>"
      ]
     },
     "metadata": {},
     "output_type": "display_data"
    },
    {
     "data": {
      "image/png": "[encoded data removed]",
      "text/plain": [
       "<Figure size 640x480 with 1 Axes>"
      ]
     },
     "metadata": {},
     "output_type": "display_data"
    },
    {
     "data": {
      "image/png": "[encoded data removed]",
      "text/plain": [
       "<Figure size 640x480 with 1 Axes>"
      ]
     },
     "metadata": {},
     "output_type": "display_data"
    },
    {
     "data": {
      "image/png": "[encoded data removed]",
      "text/plain": [
       "<Figure size 640x480 with 1 Axes>"
      ]
     },
     "metadata": {},
     "output_type": "display_data"
    }
   ],
   "source": [
    "def main_check(args):\n",
    "    set_seeds(args.seed)\n",
    "    train_set, test_set = get_dataset(args.dataset)\n",
    "    train_loader, test_loader = get_dataloader(train_set, test_set, args.batch_size)\n",
    "\n",
    "    num_iter = 10\n",
    "    aptnet = APTNet(args).to(args.device)\n",
    "    dummy = rec_iptadvsim_training(args, train_loader, test_loader, 'pgd', num_iter, aptnet)\n",
    "\n",
    "    testimgs, labels = next(iter(test_loader))\n",
    "    testimgs = testimgs.to(args.device)\n",
    "    labels = labels.to(args.device)\n",
    "    advimgs = pgd_attack(args, testimgs, dummy, labels)\n",
    "        \n",
    "    show_image(testimgs[0])\n",
    "    show_image(advimgs[0])\n",
    "    show_image(dummy.iptnet(testimgs[0:1]))\n",
    "    show_image(dummy.iptnet(advimgs[0:1]))\n",
    "\n",
    "for dataset in ['mnist', 'cifar10']:\n",
    "    print(f'========= {dataset} =========')\n",
    "    args = default_arguments(dataset)\n",
    "    main_check(args)\n"
   ]
  },
  {
   "cell_type": "code",
   "execution_count": null,
   "metadata": {},
   "outputs": [],
   "source": [
    "args = default_arguments('cifar10')\n",
    "args.vocab_size = 1024\n",
    "main_check(args)\n"
   ]
  }
 ],
 "metadata": {
  "kernelspec": {
   "display_name": "cypress",
   "language": "python",
   "name": "python3"
  },
  "language_info": {
   "codemirror_mode": {
    "name": "ipython",
    "version": 3
   },
   "file_extension": ".py",
   "mimetype": "text/x-python",
   "name": "python",
   "nbconvert_exporter": "python",
   "pygments_lexer": "ipython3",
   "version": "3.12.1"
  }
 },
 "nbformat": 4,
 "nbformat_minor": 2
}
